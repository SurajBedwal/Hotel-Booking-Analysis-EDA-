{
  "nbformat": 4,
  "nbformat_minor": 0,
  "metadata": {
    "colab": {
      "private_outputs": true,
      "provenance": [],
      "collapsed_sections": [
        "vncDsAP0Gaoa",
        "FJNUwmbgGyua",
        "w6K7xa23Elo4",
        "yQaldy8SH6Dl",
        "mDgbUHAGgjLW",
        "3RnN4peoiCZX",
        "x71ZqKXriCWQ",
        "nA9Y7ga8ng1Z",
        "PBTbrJXOngz2",
        "u3PMJOP6ngxN",
        "MSa1f5Uengrz",
        "0wOQAZs5pc--",
        "KSlN3yHqYklG",
        "EM7whBJCYoAo",
        "4Of9eVA-YrdM",
        "iky9q4vBYrdO",
        "F6T5p64dYrdO",
        "y-Ehk30pYrdP",
        "bamQiAODYuh1",
        "OH-pJp9IphqM",
        "t27r6nlMphqO",
        "r2jJGEOYphqO",
        "b0JNsNcRphqO",
        "BZR9WyysphqO",
        "jj7wYXLtphqO",
        "eZrbJ2SmphqO",
        "rFu4xreNphqO",
        "YJ55k-q6phqO",
        "gCFgpxoyphqP",
        "OVtJsKN_phqQ",
        "lssrdh5qphqQ",
        "U2RJ9gkRphqQ",
        "1M8mcRywphqQ",
        "tgIPom80phqQ",
        "JMzcOPDDphqR",
        "x-EpHcCOp1ci",
        "X_VqEhTip1ck",
        "8zGJKyg5p1ck",
        "PVzmfK_Ep1ck",
        "n3dbpmDWp1ck",
        "ylSl6qgtp1ck",
        "ZWILFDl5p1ck",
        "M7G43BXep1ck",
        "Ag9LCva-p1cl",
        "E6MkPsBcp1cl",
        "2cELzS2fp1cl",
        "3MPXvC8up1cl",
        "NC_X3p0fY2L0",
        "UV0SzAkaZNRQ",
        "YPEH6qLeZNRQ",
        "q29F0dvdveiT",
        "EXh0U9oCveiU",
        "22aHeOlLveiV",
        "JcMwzZxoAimU",
        "8G2x9gOozGDZ",
        "gCX9965dhzqZ",
        "gIfDvo9L0UH2"
      ]
    },
    "kernelspec": {
      "name": "python3",
      "display_name": "Python 3"
    },
    "language_info": {
      "name": "python"
    }
  },
  "cells": [
    {
      "cell_type": "markdown",
      "source": [
        "# **Project Name**    - **Hotel Booking Analysis**\n",
        "\n"
      ],
      "metadata": {
        "id": "vncDsAP0Gaoa"
      }
    },
    {
      "cell_type": "markdown",
      "source": [
        "##### **Project Type**    - Exploratory Data Analysis (EDA)\n",
        "##### **Contribution**    - Individual\n",
        "**Name** - Suraj Ratansing Bedwal"
      ],
      "metadata": {
        "id": "beRrZCGUAJYm"
      }
    },
    {
      "cell_type": "markdown",
      "source": [
        "# **Project Summary -**"
      ],
      "metadata": {
        "id": "FJNUwmbgGyua"
      }
    },
    {
      "cell_type": "markdown",
      "source": [
        "**This project involves a comprehensive examination of a dataset detailing hotel reservations spanning from 2015 to 2017 for both urban and resort hotels. The dataset includes various booking details for both types of hotels, such as the booking date, duration of stay, the number of adults, children, and infants, and the availability of parking spaces, among other details. All personally identifiable information has been removed from the data. We will conduct exploratory data analysis using Python to extract insights from this dataset.**"
      ],
      "metadata": {
        "id": "F6v_1wHtG2nS"
      }
    },
    {
      "cell_type": "markdown",
      "source": [
        "# **GitHub Link -**"
      ],
      "metadata": {
        "id": "w6K7xa23Elo4"
      }
    },
    {
      "cell_type": "markdown",
      "source": [
        "Provide your GitHub Link here."
      ],
      "metadata": {
        "id": "h1o69JH3Eqqn"
      }
    },
    {
      "cell_type": "markdown",
      "source": [
        "# **Problem Statement**\n"
      ],
      "metadata": {
        "id": "yQaldy8SH6Dl"
      }
    },
    {
      "cell_type": "markdown",
      "source": [
        "**Ever Wondered About the Best Time to Book a Hotel Room or How Long to Stay for the Best Rates?**\n",
        "**Or maybe you're interested in determining if a hotel is likely to receive numerous special requests? This hotel booking dataset can provide the answers you're looking for!**\n",
        "\n",
        "**This dataset contains details about reservations for both city and resort hotels. It includes information on the booking date, length of stay, the number of adults, children, and infants, and the number of parking spaces available. Any personal information has been removed to ensure privacy.**\n",
        "\n",
        "**Explore the data to discover what factors are significant when people book hotels.**"
      ],
      "metadata": {
        "id": "DpeJGUA3kjGy"
      }
    },
    {
      "cell_type": "markdown",
      "source": [
        "#### **Define Your Business Objective?**"
      ],
      "metadata": {
        "id": "PH-0ReGfmX4f"
      }
    },
    {
      "cell_type": "markdown",
      "source": [
        "### **Objectives for Hotel Booking Data Analysis Project:**\n",
        "\n",
        "**Cancellation Pattern Recognition:**\n",
        "\n",
        "1. Identify and analyze patterns related to booking cancellations using exploratory data analysis.\n",
        "2. Examine the influence of lead time, meal preferences, and customer types on cancellations.\n",
        "3. Develop a framework to recognize and categorize reasons for cancellations.\n",
        "\n",
        "**Optimal Booking Timing Determination:**\n",
        "\n",
        "1. Assess historical booking data to identify peak periods and reservation trends.\n",
        "2. Determine the best times to book based on lead times, seasonal changes, and historical patterns.\n",
        "3. Provide actionable insights to help customers optimize their booking times.\n",
        "\n",
        "**Peak Season and Customer Behavior Analysis:**\n",
        "\n",
        "1. Investigate the connection between peak seasons and customer demographics, room preferences, and booking channels.\n",
        "2. Identify key factors affecting customer behavior during peak seasons.\n",
        "3. Offer hotels tailored strategies to adjust their services to meet peak season demands.\n",
        "\n",
        "**Data Visualization for Decision-Making:**\n",
        "\n",
        "1. Apply advanced data visualization techniques to present findings clearly.\n",
        "2. Create visual aids such as charts and graphs to support informed decision-making.\n"
      ],
      "metadata": {
        "id": "PhDvGCAqmjP1"
      }
    },
    {
      "cell_type": "markdown",
      "source": [
        "# **General Guidelines** : -  "
      ],
      "metadata": {
        "id": "mDgbUHAGgjLW"
      }
    },
    {
      "cell_type": "markdown",
      "source": [
        "1.   Well-structured, formatted, and commented code is required.\n",
        "2.   Exception Handling, Production Grade Code & Deployment Ready Code will be a plus. Those students will be awarded some additional credits.\n",
        "     \n",
        "     The additional credits will have advantages over other students during Star Student selection.\n",
        "       \n",
        "             [ Note: - Deployment Ready Code is defined as, the whole .ipynb notebook should be executable in one go\n",
        "                       without a single error logged. ]\n",
        "\n",
        "3.   Each and every logic should have proper comments.\n",
        "4. You may add as many number of charts you want. Make Sure for each and every chart the following format should be answered.\n",
        "        \n",
        "\n",
        "```\n",
        "# Chart visualization code\n",
        "```\n",
        "            \n",
        "\n",
        "*   Why did you pick the specific chart?\n",
        "*   What is/are the insight(s) found from the chart?\n",
        "* Will the gained insights help creating a positive business impact?\n",
        "Are there any insights that lead to negative growth? Justify with specific reason.\n",
        "\n",
        "5. You have to create at least 20 logical & meaningful charts having important insights.\n",
        "\n",
        "\n",
        "[ Hints : - Do the Vizualization in  a structured way while following \"UBM\" Rule.\n",
        "\n",
        "U - Univariate Analysis,\n",
        "\n",
        "B - Bivariate Analysis (Numerical - Categorical, Numerical - Numerical, Categorical - Categorical)\n",
        "\n",
        "M - Multivariate Analysis\n",
        " ]\n",
        "\n",
        "\n",
        "\n"
      ],
      "metadata": {
        "id": "ZrxVaUj-hHfC"
      }
    },
    {
      "cell_type": "markdown",
      "source": [
        "# ***Let's Begin !***"
      ],
      "metadata": {
        "id": "O_i_v8NEhb9l"
      }
    },
    {
      "cell_type": "markdown",
      "source": [
        "## ***1. Know Your Data***"
      ],
      "metadata": {
        "id": "HhfV-JJviCcP"
      }
    },
    {
      "cell_type": "markdown",
      "source": [
        "### Import Libraries"
      ],
      "metadata": {
        "id": "Y3lxredqlCYt"
      }
    },
    {
      "cell_type": "code",
      "source": [
        "# Import Libraries\n",
        "\n",
        "import pandas as pd\n",
        "import numpy as np\n",
        "import matplotlib.pyplot as plt\n",
        "import seaborn as sns\n",
        "import warnings\n",
        "warnings.filterwarnings('ignore')"
      ],
      "metadata": {
        "id": "M8Vqi-pPk-HR"
      },
      "execution_count": null,
      "outputs": []
    },
    {
      "cell_type": "markdown",
      "source": [
        "### Dataset Loading"
      ],
      "metadata": {
        "id": "3RnN4peoiCZX"
      }
    },
    {
      "cell_type": "code",
      "source": [
        "from google.colab import drive\n",
        "drive.mount('/content/drive')"
      ],
      "metadata": {
        "id": "Lvnt7awaLH_K"
      },
      "execution_count": null,
      "outputs": []
    },
    {
      "cell_type": "code",
      "source": [
        "'/content/drive/MyDrive/Module 2 Project/Week/Day/Hotel Bookings.csv'"
      ],
      "metadata": {
        "id": "M-tpC5lNN0h3"
      },
      "execution_count": null,
      "outputs": []
    },
    {
      "cell_type": "code",
      "source": [
        "# Load Dataset\n",
        "df = pd.read_csv('/content/drive/My Drive/Module 2 Project/Week/Day/Hotel Bookings.csv')\n",
        "df"
      ],
      "metadata": {
        "id": "4CkvbW_SlZ_R"
      },
      "execution_count": null,
      "outputs": []
    },
    {
      "cell_type": "markdown",
      "source": [
        "### Dataset First View"
      ],
      "metadata": {
        "id": "x71ZqKXriCWQ"
      }
    },
    {
      "cell_type": "code",
      "source": [
        "# Dataset First Look\n",
        "# Top 5 Rows\n",
        "df.head()"
      ],
      "metadata": {
        "id": "LWNFOSvLl09H"
      },
      "execution_count": null,
      "outputs": []
    },
    {
      "cell_type": "code",
      "source": [
        "# Last 5 Rows\n",
        "df.tail()"
      ],
      "metadata": {
        "id": "GdymNEwSOayQ"
      },
      "execution_count": null,
      "outputs": []
    },
    {
      "cell_type": "markdown",
      "source": [
        "### Dataset Rows & Columns count"
      ],
      "metadata": {
        "id": "7hBIi_osiCS2"
      }
    },
    {
      "cell_type": "code",
      "source": [
        "# Dataset Rows & Columns count\n",
        "df.shape"
      ],
      "metadata": {
        "id": "Kllu7SJgmLij"
      },
      "execution_count": null,
      "outputs": []
    },
    {
      "cell_type": "markdown",
      "source": [
        "The Given dataset has 119390 Rows and 32 Columns"
      ],
      "metadata": {
        "id": "s36HOmbjPnJ_"
      }
    },
    {
      "cell_type": "markdown",
      "source": [
        "### Dataset Information"
      ],
      "metadata": {
        "id": "JlHwYmJAmNHm"
      }
    },
    {
      "cell_type": "code",
      "source": [
        "# Dataset Info\n",
        "df.info()"
      ],
      "metadata": {
        "id": "e9hRXRi6meOf"
      },
      "execution_count": null,
      "outputs": []
    },
    {
      "cell_type": "markdown",
      "source": [
        "#### Duplicate Values"
      ],
      "metadata": {
        "id": "35m5QtbWiB9F"
      }
    },
    {
      "cell_type": "code",
      "source": [
        "# Dataset Duplicate Value Count\n",
        "duplicate_value = df.duplicated().sum()\n",
        "print(duplicate_value)"
      ],
      "metadata": {
        "id": "1sLdpKYkmox0"
      },
      "execution_count": null,
      "outputs": []
    },
    {
      "cell_type": "markdown",
      "source": [
        "The dataset has 31994 duplicate values"
      ],
      "metadata": {
        "id": "Qo1NziHMQLdS"
      }
    },
    {
      "cell_type": "markdown",
      "source": [
        "#### Missing Values/Null Values"
      ],
      "metadata": {
        "id": "PoPl-ycgm1ru"
      }
    },
    {
      "cell_type": "code",
      "source": [
        "# Missing Values/Null Values Count\n",
        "df.isnull().sum()"
      ],
      "metadata": {
        "id": "GgHWkxvamxVg"
      },
      "execution_count": null,
      "outputs": []
    },
    {
      "cell_type": "code",
      "source": [
        "# Visualizing the missing values\n",
        "\n",
        "plt.figure(figsize=(10,6))\n",
        "sns.heatmap(df.isnull(),cmap='viridis', cbar=False)\n",
        "plt.title('Missing Values')\n",
        "plt.show()"
      ],
      "metadata": {
        "id": "Kh9LOeDOfjBj"
      },
      "execution_count": null,
      "outputs": []
    },
    {
      "cell_type": "markdown",
      "source": [
        "### What did you know about your dataset?"
      ],
      "metadata": {
        "id": "H0kj-8xxnORC"
      }
    },
    {
      "cell_type": "markdown",
      "source": [
        "**Overview of the Hotel Booking Dataset:**\n",
        "\n",
        "The dataset provides detailed booking information for two types of hotels:\n",
        "\n",
        "**1. City Hotel**\n",
        "\n",
        "**2. Resort Hotel**\n",
        "\n",
        "It includes various customer details such as the booking date, the year, month, and week of arrival, and the total duration of the stay. Additionally, it covers the type of meal chosen, the allocated room type, and some personal details like customer type, country of origin, whether they were alone or in a group, and the number of children or babies accompanying them.\n",
        "\n",
        "**Exploratory Data Analysis Objective:**\n",
        "\n",
        "\"I am conducting an exploratory data analysis on a hotel booking dataset. The dataset contains information on reservations, customer demographics, and booking patterns. The goal is to uncover insights, trends, and potential factors influencing booking behaviors.\"\n",
        "\n",
        "**Dataset Characteristics:**\n",
        "\n",
        "**Size:**119,390 rows and 32 columns\n",
        "\n",
        "**Missing Values:**Some columns have missing values, including [\"Company\", \"Agent\", \"Country\"]\n",
        "\n",
        "**Duplicate Values:** There are 31,994 duplicate entries in the dataset.\n",
        "\n",
        "\n",
        "**Initial Goal:**\n",
        "\n",
        "The primary objective is to clean the dataset to optimize it for efficient analysis. This involves handling missing values and removing duplicates.\n",
        "\n",
        "\n",
        "**Key Points for Data Analysis:**\n",
        "\n",
        "**Reservation Patterns:**\n",
        "Analyze customer demographics to understand reservation behaviors, including booking frequency, preferred booking channels, and typical lead times.\n",
        "\n",
        "**Cancellation Trends:**\n",
        "Examine demographics to gain insights into cancellation tendencies, identifying which customer segments are more likely to cancel reservations and why. This information is vital for optimizing cancellation policies and improving customer satisfaction.\n"
      ],
      "metadata": {
        "id": "gfoNAAC-nUe_"
      }
    },
    {
      "cell_type": "markdown",
      "source": [
        "## ***2. Understanding Your Variables***"
      ],
      "metadata": {
        "id": "nA9Y7ga8ng1Z"
      }
    },
    {
      "cell_type": "code",
      "source": [
        "# Dataset Columns\n",
        "df.columns"
      ],
      "metadata": {
        "id": "j7xfkqrt5Ag5"
      },
      "execution_count": null,
      "outputs": []
    },
    {
      "cell_type": "code",
      "source": [
        "# Dataset Describe\n",
        "df.describe(include='all')   # This include='all' will give us all the values including NaN"
      ],
      "metadata": {
        "id": "DnOaZdaE5Q5t"
      },
      "execution_count": null,
      "outputs": []
    },
    {
      "cell_type": "markdown",
      "source": [
        "### Variables Description"
      ],
      "metadata": {
        "id": "PBTbrJXOngz2"
      }
    },
    {
      "cell_type": "markdown",
      "source": [
        "**### Detailed Dataset Description:**\n",
        "\n",
        "**#### Hotel Types:**\n",
        "- **City Hotel**: Urban hotel\n",
        "- **Resort Hotel**: Vacation hotel\n",
        "\n",
        "**#### Booking and Customer Information:**\n",
        "- **is_canceled**: Indicates if the booking was canceled (1) or not (0)\n",
        "- **lead_time**: Number of days in advance the hotel was booked\n",
        "- **arrival_date_year**: Year of arrival\n",
        "- **arrival_date_month**: Month of arrival\n",
        "- **arrival_date_week_number**: Week number of arrival\n",
        "- **arrival_date_day_of_month**: Day of arrival\n",
        "- **stays_in_weekend_nights**: Number of weekend nights (Saturday or Sunday) the guest stayed or booked to stay\n",
        "- **stays_in_week_nights**: Number of week nights (Monday to Friday) the guest stayed or booked to stay\n",
        "- **adults**: Number of adults\n",
        "- **children**: Number of children\n",
        "- **babies**: Number of babies\n",
        "- **meal**: Type of meal plan chosen by the customer\n",
        "  - **BB**: Bed & Breakfast\n",
        "  - **FB**: Full Board (Breakfast, Lunch, and Dinner)\n",
        "  - **HB**: Half Board (Breakfast and Dinner)\n",
        "  - **SC/Undefined**: No meal opted\n",
        "\n",
        "**#### Customer Details:**\n",
        "- **country**: Code of the country the customer belongs to\n",
        "- **market_segment**: Market segment the customer belongs to\n",
        "- **distribution_channel**: Booking channel used by the customer (direct/TA/TO)\n",
        "- **is_repeated_guest**: Indicates if the guest is a returning customer (1) or a first-time visitor (0)\n",
        "- **previous_cancellations**: Number of previous bookings canceled by the customer\n",
        "- **previous_bookings_not_canceled**: Number of previous successful bookings by the customer\n",
        "\n",
        "**#### Room Information:**\n",
        "- **reserved_room_type**: Type of room reserved by the customer\n",
        "- **assigned_room_type**: Type of room assigned to the customer\n",
        "- **booking_changes**: Number of changes made to the booking\n",
        "\n",
        "**#### Financial and Special Requests:**\n",
        "- **deposit_type**: Deposit type chosen by the customer\n",
        "- **agent**: ID of the travel agent who made the booking\n",
        "- **company**: ID of the company that made the booking\n",
        "- **customer_type**: Type of customer\n",
        "  - **Transient**: Booking not part of a group or contract, and not associated with other transient bookings\n",
        "  - **Contract**: Booking associated with a contract\n",
        "  - **Transient_party**: Transient booking associated with at least one other transient booking\n",
        "  - **Group**: Booking associated with a group\n",
        "- **days_in_waiting_list**: Number of days the customer had to wait for booking confirmation\n",
        "- **adr**: Average Daily Rate, the average rate paid per occupied room\n",
        "- **required_car_parking_spaces**: Indicates if car parking was required\n",
        "- **total_of_special_requests**: Number of additional special requests made by the customer\n",
        "\n",
        "**#### Reservation Status:**\n",
        "- **reservation_status**: Reservation status (checked-in, canceled, or no-show)\n",
        "- **reservation_status_date**: Date of the last reservation status update\n"
      ],
      "metadata": {
        "id": "aJV4KIxSnxay"
      }
    },
    {
      "cell_type": "markdown",
      "source": [
        "### Check Unique Values for each variable."
      ],
      "metadata": {
        "id": "u3PMJOP6ngxN"
      }
    },
    {
      "cell_type": "code",
      "source": [
        "# Check Unique Values for each variable.\n",
        "display(df.apply(lambda column:column.unique()).to_string())"
      ],
      "metadata": {
        "id": "zms12Yq5n-jE"
      },
      "execution_count": null,
      "outputs": []
    },
    {
      "cell_type": "markdown",
      "source": [
        "## 3. ***Data Wrangling***"
      ],
      "metadata": {
        "id": "dauF4eBmngu3"
      }
    },
    {
      "cell_type": "markdown",
      "source": [
        "### Data Wrangling Code"
      ],
      "metadata": {
        "id": "bKJF3rekwFvQ"
      }
    },
    {
      "cell_type": "code",
      "source": [
        "# Write your code to make your dataset analysis ready.\n",
        "# Dropping all duplicate values\n",
        "df.drop_duplicates(inplace=True)"
      ],
      "metadata": {
        "id": "wk-9a2fpoLcV"
      },
      "execution_count": null,
      "outputs": []
    },
    {
      "cell_type": "code",
      "source": [
        "# Check the number of rows and columns after droping duplicates\n",
        "df.shape"
      ],
      "metadata": {
        "id": "sddDSU1Puq6h"
      },
      "execution_count": null,
      "outputs": []
    },
    {
      "cell_type": "code",
      "source": [
        "# Check whether contains null value or not\n",
        "df.isnull().values.any()"
      ],
      "metadata": {
        "id": "rjrBaQtRuWT3"
      },
      "execution_count": null,
      "outputs": []
    },
    {
      "cell_type": "code",
      "source": [
        "print((df.isnull().sum()).sort_values(ascending=False))"
      ],
      "metadata": {
        "id": "SERXsFQcuI1w"
      },
      "execution_count": null,
      "outputs": []
    },
    {
      "cell_type": "markdown",
      "source": [
        "**Here we found that company, agent, country, children contains null values. Company and agent columns contains maximum null value, so we will drop these two columns in future steps and we will replace null values in country and children columns.**"
      ],
      "metadata": {
        "id": "NFrmASdFu3Se"
      }
    },
    {
      "cell_type": "code",
      "source": [
        "# Percentage of Null Values\n",
        "pd.DataFrame(round(df.isna().sum()*100/len(df),4))"
      ],
      "metadata": {
        "id": "C3YgckdKwDk6"
      },
      "execution_count": null,
      "outputs": []
    },
    {
      "cell_type": "markdown",
      "source": [
        "**From the above we can see the children, country, agent, and company variables have null values of 0.0046%, 0.5172%, 13.9514%, and 93.9826% resp. Variable company has more than 50% null values**"
      ],
      "metadata": {
        "id": "1v25hdq2w03v"
      }
    },
    {
      "cell_type": "code",
      "source": [
        "# Drop the columns which has more than 50% null values\n",
        "df.drop(columns='company',inplace=True)"
      ],
      "metadata": {
        "collapsed": true,
        "id": "77Z216JTxooF"
      },
      "execution_count": null,
      "outputs": []
    },
    {
      "cell_type": "code",
      "source": [
        "# Replacing null values wiht the most frequent value in a variable\n",
        "df['children']=df['children'].fillna(df['children'].mode()[0])\n",
        "df['country']=df['country'].fillna(df['country'].mode()[0])\n",
        "df['agent']=df['agent'].fillna(df['agent'].mode()[0])"
      ],
      "metadata": {
        "id": "TCyA3Jn-xzSI"
      },
      "execution_count": null,
      "outputs": []
    },
    {
      "cell_type": "markdown",
      "source": [
        "**From the above children, country, and agent are discrete numerical variables, so replaced null values with modes, and the variable company had full values greater than 50%, so removed it.**"
      ],
      "metadata": {
        "id": "WGiso0c6yLLw"
      }
    },
    {
      "cell_type": "code",
      "source": [
        "# Check null values are removed or not?\n",
        "df.isnull().sum()"
      ],
      "metadata": {
        "id": "05ekFRu_yf7r"
      },
      "execution_count": null,
      "outputs": []
    },
    {
      "cell_type": "markdown",
      "source": [
        "** All the Null values have been successfully removed**"
      ],
      "metadata": {
        "id": "qQ55BJeLywYT"
      }
    },
    {
      "cell_type": "code",
      "source": [
        "df.shape # shape method is used to know the total number of rows and columns in dataset"
      ],
      "metadata": {
        "id": "rT9qlpyAyora"
      },
      "execution_count": null,
      "outputs": []
    },
    {
      "cell_type": "code",
      "source": [
        "# Check unique values for hotel column\n",
        "df['hotel'].unique()"
      ],
      "metadata": {
        "id": "xwYNlqWnyuN3"
      },
      "execution_count": null,
      "outputs": []
    },
    {
      "cell_type": "markdown",
      "source": [
        "**Here we can see that there are two types of hotels in our dataset**"
      ],
      "metadata": {
        "id": "wDTCiOlvzIBE"
      }
    },
    {
      "cell_type": "code",
      "source": [
        "# Unique values of is_canceled column\n",
        "list(df['is_canceled'].unique())"
      ],
      "metadata": {
        "id": "KB3xu2PEzRbC"
      },
      "execution_count": null,
      "outputs": []
    },
    {
      "cell_type": "markdown",
      "source": [
        "**Here the 0 is for booking was not cancelled and 1 is for booking cancelled!**"
      ],
      "metadata": {
        "id": "tnxwYbE8zatI"
      }
    },
    {
      "cell_type": "code",
      "source": [
        "# Unique values of arrival_date_year column\n",
        "df['arrival_date_year'].unique()"
      ],
      "metadata": {
        "id": "u1gZ11FczHri"
      },
      "execution_count": null,
      "outputs": []
    },
    {
      "cell_type": "markdown",
      "source": [
        "**Handling Outliers**\n",
        "\n",
        "**Categorical Variables**"
      ],
      "metadata": {
        "id": "ZbDV9F6i0KG6"
      }
    },
    {
      "cell_type": "code",
      "source": [
        "# Find categorical variables\n",
        "categorical_variables=[i for i in df.columns if df[i].dtype=='O']\n",
        "print(f'Dataset having {len(categorical_variables)} categorical_variables')\n",
        "print(categorical_variables)"
      ],
      "metadata": {
        "id": "m15UwVWi0PA6"
      },
      "execution_count": null,
      "outputs": []
    },
    {
      "cell_type": "markdown",
      "source": [
        "**Numerical Variables**"
      ],
      "metadata": {
        "id": "RR933Hx9044W"
      }
    },
    {
      "cell_type": "code",
      "source": [
        "# Find numerical variables\n",
        "numerical_variables = [i for i in df.columns if df[i].dtype!='O']\n",
        "print(f'Dataset having {len(numerical_variables)} numerical_variables')\n",
        "print(numerical_variables)"
      ],
      "metadata": {
        "id": "BnBkEuiZ07Lp"
      },
      "execution_count": null,
      "outputs": []
    },
    {
      "cell_type": "markdown",
      "source": [
        "** Finding the Outlier in each column**"
      ],
      "metadata": {
        "id": "Iyfkhklr1PWe"
      }
    },
    {
      "cell_type": "code",
      "source": [
        "plt.rc('font', size=14)\n",
        "plt.figure(figsize=(30,12))\n",
        "sns.boxplot(data=df[['is_canceled', 'lead_time', 'arrival_date_week_number', 'adults', 'babies', 'previous_cancellations', 'booking_changes', 'days_in_waiting_list', 'adr', 'total_of_special_requests']])\n",
        "plt.show()"
      ],
      "metadata": {
        "id": "3ohDpqeZ1R6b"
      },
      "execution_count": null,
      "outputs": []
    },
    {
      "cell_type": "markdown",
      "source": [
        "**After checking outliers in each columns we can see that only in three columns the outliers are present : lead_time, days_in_waiting_list, and adr**"
      ],
      "metadata": {
        "id": "NZp0Ib882nPi"
      }
    },
    {
      "cell_type": "code",
      "source": [
        "# Only see the Outliers in three columns\n",
        "plt.rc('font', size=14)\n",
        "plt.figure(figsize=(30,12))\n",
        "sns.boxplot(data=df[['lead_time', 'days_in_waiting_list', 'adr']])\n",
        "plt.show()"
      ],
      "metadata": {
        "id": "wwfKeP8U28Mf"
      },
      "execution_count": null,
      "outputs": []
    },
    {
      "cell_type": "markdown",
      "source": [
        "**Now Remove the Outliers**"
      ],
      "metadata": {
        "id": "tKTqDLSB3Ucz"
      }
    },
    {
      "cell_type": "code",
      "source": [
        "# Now Remove the Outliers\n",
        "def remove_outlier(col):\n",
        "  print(col)\n",
        "  sorted(col)\n",
        "  q1,q3=col.quantile([0.25,0.75])\n",
        "  iqr=q3-q1\n",
        "  lower_bound=q1-(1.5*iqr)\n",
        "  upper_bound=q3+(1.5*iqr)\n",
        "  return lower_bound,upper_bound"
      ],
      "metadata": {
        "id": "_X_gJPsf3QOv"
      },
      "execution_count": null,
      "outputs": []
    },
    {
      "cell_type": "markdown",
      "source": [
        "**In the above code we define a function remove_outlier from those columns. For removing the outliers from the columns we just pass the columns name as paramater of that column in remove_outlier function.**"
      ],
      "metadata": {
        "id": "rPUE1fAa32y8"
      }
    },
    {
      "cell_type": "code",
      "source": [
        " # 1.Removing Outliers from the lead_time column\n",
        " low, high = remove_outlier(df['lead_time'])\n",
        " df['lead_time'] = np.where(df['lead_time'] > high, high, df['lead_time'])\n",
        " df['lead_time'] = np.where(df['lead_time'] < low, low, df['lead_time'])"
      ],
      "metadata": {
        "id": "36dBbuiM4LhY"
      },
      "execution_count": null,
      "outputs": []
    },
    {
      "cell_type": "markdown",
      "source": [
        "**In the above code we pass the 'lead_time' column to the 'remove_outlier' function, and the values returned by the 'remove_outlier' function are stored in low and high variables.**"
      ],
      "metadata": {
        "id": "iUB1zaPV4msB"
      }
    },
    {
      "cell_type": "code",
      "source": [
        "# 2.Removing outliers forrm days_in_waiting_list column\n",
        "low,high=remove_outlier(df['days_in_waiting_list'])\n",
        "df['days_in_waiting_list']=np.where(df['days_in_waiting_list']>high,high,df['days_in_waiting_list'])\n",
        "df['days_in_waiting_list']=np.where(df['days_in_waiting_list']<low,low,df['days_in_waiting_list'])"
      ],
      "metadata": {
        "id": "OIkFyJtI43zC"
      },
      "execution_count": null,
      "outputs": []
    },
    {
      "cell_type": "markdown",
      "source": [
        "**Here we pass the 'days_in_waiting_list' column to the 'remove_outlier' function, and the values returned by the 'remove_outlier' function are stored in low and high variables.**"
      ],
      "metadata": {
        "id": "fyCYc7dM5Nhp"
      }
    },
    {
      "cell_type": "code",
      "source": [
        "# 3. Removing Outliers from adr column\n",
        "low,high=remove_outlier(df['adr'])\n",
        "df['adr']=np.where(df['adr']>high,high,df['adr'])\n",
        "df['adr']=np.where(df['adr']<low,low,df['adr'])"
      ],
      "metadata": {
        "id": "HiK_tDFl5IwD"
      },
      "execution_count": null,
      "outputs": []
    },
    {
      "cell_type": "markdown",
      "source": [
        "**Here also we pass the 'adr' column to the 'remove_outlier' function, and the values returned by the 'remove_outlier' function are stored in low and high variables.**"
      ],
      "metadata": {
        "id": "XwxqJGs-5bPC"
      }
    },
    {
      "cell_type": "code",
      "source": [
        "# After Removing Outliers\n",
        "sns.set_style('whitegrid')\n",
        "plt.rc('font', size=20)\n",
        "plt.figure(figsize=(30,12))\n",
        "sns.boxplot(data=df[['lead_time', 'days_in_waiting_list', 'adr']])\n",
        "plt.show()"
      ],
      "metadata": {
        "id": "J79pOiLs5lOV"
      },
      "execution_count": null,
      "outputs": []
    },
    {
      "cell_type": "markdown",
      "source": [
        "**From the above graph we can say that we have successfully remoed the outliers form the columns.**"
      ],
      "metadata": {
        "id": "tcyVZ80W6Bar"
      }
    },
    {
      "cell_type": "code",
      "source": [
        "# Adding the column 'total_stay' using columns : 'stays_in_weekend_nights' & 'stays_in_week_nights'\n",
        "df['total_stay'] = df['stays_in_weekend_nights'] + df['stays_in_week_nights']"
      ],
      "metadata": {
        "id": "cYP01GyP6yzw"
      },
      "execution_count": null,
      "outputs": []
    },
    {
      "cell_type": "markdown",
      "source": [
        "**Here we are calculating the number of days that people stays in and store that number in a new column which is total_stay**"
      ],
      "metadata": {
        "id": "Sd8t_NF17Vnw"
      }
    },
    {
      "cell_type": "code",
      "source": [
        "# Now check unique values for children and agent column\n",
        "print(df['children'].unique())\n",
        "print(df['agent'].unique())"
      ],
      "metadata": {
        "id": "eTmVasoR7irp"
      },
      "execution_count": null,
      "outputs": []
    },
    {
      "cell_type": "markdown",
      "source": [
        "**In the above code the datatype of variables children and agent is float64.**\n",
        "\n",
        "**Now change datatype from float to int**"
      ],
      "metadata": {
        "id": "UpAr1xiF8SEV"
      }
    },
    {
      "cell_type": "code",
      "source": [
        "# Changing datatype\n",
        "df[['children', 'agent']] = df[['children', 'agent']].astype('int64')"
      ],
      "metadata": {
        "id": "4lTnSP5J8Po0"
      },
      "execution_count": null,
      "outputs": []
    },
    {
      "cell_type": "markdown",
      "source": [
        "**Now the datatype of a variable reservation_status_date is object datatype now change it to datetime datatype**"
      ],
      "metadata": {
        "id": "ojnr3HyP8q5p"
      }
    },
    {
      "cell_type": "code",
      "source": [
        "# Changing datatype of reservation_status_date\n",
        "df['reservation_status_date'] = pd.to_datetime(df['reservation_status_date'], format='%Y-%m-%d')"
      ],
      "metadata": {
        "id": "D8suXQSd84AA"
      },
      "execution_count": null,
      "outputs": []
    },
    {
      "cell_type": "markdown",
      "source": [
        "**Now check whether the datatypes are changed or not**"
      ],
      "metadata": {
        "id": "TE8ldCU09Lja"
      }
    },
    {
      "cell_type": "code",
      "source": [
        "# Checking datatype\n",
        "df[['children', 'agent', 'reservation_status_date']].dtypes"
      ],
      "metadata": {
        "id": "j4bUPR0U9Pk5"
      },
      "execution_count": null,
      "outputs": []
    },
    {
      "cell_type": "markdown",
      "source": [
        "**Create a column total_visitors and add the value of the columns adults, children, and babies in it.**"
      ],
      "metadata": {
        "id": "UqNssrLp9eYR"
      }
    },
    {
      "cell_type": "code",
      "source": [
        "# Creating column total_visitors\n",
        "df['total_visitors'] = df['adults'] + df['children'] + df['babies']"
      ],
      "metadata": {
        "id": "geRc_-GX9zXn"
      },
      "execution_count": null,
      "outputs": []
    },
    {
      "cell_type": "markdown",
      "source": [
        "**Create a variable 'reserved_room_assigned' which describe same room assigned or not**"
      ],
      "metadata": {
        "id": "QtPjwWUp9-J4"
      }
    },
    {
      "cell_type": "code",
      "source": [
        "# Creating reserved_room_assigned variable\n",
        "df['reserved_room_assigned']=np.where(df['reserved_room_type']==df['assigned_room_type'],'Yes','No')"
      ],
      "metadata": {
        "id": "ueZTvFzq-JMM"
      },
      "execution_count": null,
      "outputs": []
    },
    {
      "cell_type": "markdown",
      "source": [
        "**Now creating the visitors_category form the variable total_visitors**"
      ],
      "metadata": {
        "id": "N6wWDJ9Z-nBV"
      }
    },
    {
      "cell_type": "code",
      "source": [
        "df['visitors_category']=np.where(df['total_visitors']==1, 'single', np.where(df['total_visitors']==2, 'Couple', 'Family'))"
      ],
      "metadata": {
        "id": "sdt6mrCn-voU"
      },
      "execution_count": null,
      "outputs": []
    },
    {
      "cell_type": "markdown",
      "source": [
        "**Now creating lead_time_category from the variable lead_time to display category**"
      ],
      "metadata": {
        "id": "j4-306sG_f6s"
      }
    },
    {
      "cell_type": "code",
      "source": [
        "# Creating 'lead_time_category' from 'lead_time' variale to display category\n",
        "df['lead_time_category']=np.where(df['lead_time']<=15, 'low',np.where((df['lead_time']>15) & (df['lead_time']<90), 'medium', 'high'))"
      ],
      "metadata": {
        "id": "FnQoFNveAtFb"
      },
      "execution_count": null,
      "outputs": []
    },
    {
      "cell_type": "markdown",
      "source": [
        "**In the below code meal contains undefined meal type which is same as 'SC' so we will combine them**"
      ],
      "metadata": {
        "id": "khp_acqMA5XI"
      }
    },
    {
      "cell_type": "code",
      "source": [
        "# First check for unique meal types\n",
        "df['meal'].unique()"
      ],
      "metadata": {
        "id": "0n3O-AAkBEGN"
      },
      "execution_count": null,
      "outputs": []
    },
    {
      "cell_type": "code",
      "source": [
        "# Finding the most prefered meal type in the form of percentage\n",
        "df.meal.value_counts(normalize=True)*100"
      ],
      "metadata": {
        "id": "sW4LgFuxBQ4S"
      },
      "execution_count": null,
      "outputs": []
    },
    {
      "cell_type": "code",
      "source": [
        "# Drop the meal Undefined bacause it is same as SC\n",
        "df=df.drop(df[df['meal']=='Undefined'].index)"
      ],
      "metadata": {
        "id": "hmpjy5DjRrkG"
      },
      "execution_count": null,
      "outputs": []
    },
    {
      "cell_type": "code",
      "source": [
        "df.meal.unique()"
      ],
      "metadata": {
        "id": "6GNXhtZVR5P_"
      },
      "execution_count": null,
      "outputs": []
    },
    {
      "cell_type": "markdown",
      "source": [
        "**In the above output we can see the the Bed & Breakfasst is most prefered meal type**"
      ],
      "metadata": {
        "id": "xSfafGW5Bh25"
      }
    },
    {
      "cell_type": "markdown",
      "source": [
        "**Now We want to find the most common hotel booking in the form of percentage**"
      ],
      "metadata": {
        "id": "UkOcJfXDBr_s"
      }
    },
    {
      "cell_type": "code",
      "source": [
        "# Most common hotel booked\n",
        "df.value_counts('hotel',normalize=True)*100"
      ],
      "metadata": {
        "id": "j1EJRx3GByV2"
      },
      "execution_count": null,
      "outputs": []
    },
    {
      "cell_type": "markdown",
      "source": [
        "**We can see that City Hotel are mostly booked hotels by customers**"
      ],
      "metadata": {
        "id": "dbSZWluSB8IO"
      }
    },
    {
      "cell_type": "markdown",
      "source": [
        "**Now find in which year the booking was so high / maximum no of customers**\n"
      ],
      "metadata": {
        "id": "brR_V9pXCCBJ"
      }
    },
    {
      "cell_type": "code",
      "source": [
        "df.arrival_date_year.value_counts(normalize=True)*100"
      ],
      "metadata": {
        "id": "5taWhjnWCNSQ"
      },
      "execution_count": null,
      "outputs": []
    },
    {
      "cell_type": "markdown",
      "source": [
        "**we can clearly see that the 2016 was the peak year when the booking was so high**"
      ],
      "metadata": {
        "id": "vlOxK7GHCXun"
      }
    },
    {
      "cell_type": "markdown",
      "source": [
        "**Now we know the 2016 was the peak year now we want to know the peak mont of the year 2016**"
      ],
      "metadata": {
        "id": "IHEELCKKCgfV"
      }
    },
    {
      "cell_type": "code",
      "source": [
        "# Peak month of the year 2016\n",
        "df.arrival_date_month.value_counts(normalize=True)*100"
      ],
      "metadata": {
        "id": "pt4Kb3MnCrqR"
      },
      "execution_count": null,
      "outputs": []
    },
    {
      "cell_type": "markdown",
      "source": [
        "**In august month lots of booking had been done by customers**"
      ],
      "metadata": {
        "id": "fgv-0PSyC1KX"
      }
    },
    {
      "cell_type": "markdown",
      "source": [
        "**Now we want to find in august month how many customers book city hotel and resort hotel**"
      ],
      "metadata": {
        "id": "0-azxh65C7gU"
      }
    },
    {
      "cell_type": "code",
      "source": [
        "df[df['arrival_date_month']=='August'].hotel.value_counts()"
      ],
      "metadata": {
        "id": "fgQTK2R3DIEl"
      },
      "execution_count": null,
      "outputs": []
    },
    {
      "cell_type": "markdown",
      "source": [
        "**Find from which country the maximum visitors arrived**\n"
      ],
      "metadata": {
        "id": "03kR3wo2DkaX"
      }
    },
    {
      "cell_type": "code",
      "source": [
        "df.country.value_counts()"
      ],
      "metadata": {
        "id": "6UFskf36DqyQ"
      },
      "execution_count": null,
      "outputs": []
    },
    {
      "cell_type": "markdown",
      "source": [
        "**We can see that Portugal, Great Britain, France, Spain are the countries form where the maximum vistors are arrived**"
      ],
      "metadata": {
        "id": "49Fju0BfDuNw"
      }
    },
    {
      "cell_type": "markdown",
      "source": [
        "**Now, find which country has higher percentage of hotel bookings**"
      ],
      "metadata": {
        "id": "eshK0-uEEGAT"
      }
    },
    {
      "cell_type": "code",
      "source": [
        "df['country'].value_counts(normalize=True).idxmax()"
      ],
      "metadata": {
        "id": "ChHXpZaeEO3N"
      },
      "execution_count": null,
      "outputs": []
    },
    {
      "cell_type": "markdown",
      "source": [
        "**A higher percentage of hotel bookings comes from the country of Portugal**"
      ],
      "metadata": {
        "id": "FUxlPjwjEeOD"
      }
    },
    {
      "cell_type": "markdown",
      "source": [
        "**Now We want to know which type of room is mostly assigned to the customers/Visitors.**\n"
      ],
      "metadata": {
        "id": "DFSDVsa8El-a"
      }
    },
    {
      "cell_type": "code",
      "source": [
        "# Mostly assigned room type\n",
        "df.assigned_room_type.value_counts(normalize=True)*100"
      ],
      "metadata": {
        "id": "rIylQX0iE8qi"
      },
      "execution_count": null,
      "outputs": []
    },
    {
      "cell_type": "markdown",
      "source": [
        "**Now find which hotel has high cancellation of booking**"
      ],
      "metadata": {
        "id": "T2R6QhwNFGvR"
      }
    },
    {
      "cell_type": "code",
      "source": [
        "# Highest booking Canceled\n",
        "cancel=df[df['is_canceled']==1].groupby('hotel')\n",
        "x1 = pd.DataFrame(cancel.size()).rename(columns={0:'Canceled_booking'})\n",
        "total_booking=df.groupby('hotel')\n",
        "\n",
        "x2 = pd.DataFrame(total_booking.size()).rename(columns={0:'Total_booking'})\n",
        "result=pd.concat([x1,x2],axis=1)\n",
        "result['Percentage_cancel']=round((result['Canceled_booking']/result['Total_booking'])*100,2)\n",
        "result"
      ],
      "metadata": {
        "id": "XEvVMjd6FPXr"
      },
      "execution_count": null,
      "outputs": []
    },
    {
      "cell_type": "markdown",
      "source": [
        "**Mostly booking of city hotels is canceled by customers.**"
      ],
      "metadata": {
        "id": "oPQt1m4rHj_d"
      }
    },
    {
      "cell_type": "markdown",
      "source": [
        "\n",
        "### What all manipulations have you done and insights you found?"
      ],
      "metadata": {
        "id": "MSa1f5Uengrz"
      }
    },
    {
      "cell_type": "markdown",
      "source": [
        "**Data Analysis Insights:**\n",
        "\n",
        "**Outlier Identification and Removal:**\n",
        "- **Lead Time, ADR, and Days in Waiting List**: Initially identified and removed outliers from the 'lead_time,' 'adr,' and 'days_in_waiting_list' columns to ensure more accurate analysis.\n",
        "\n",
        "**Feature Engineering:**\n",
        "- **Total Stay**: Created a new column 'total_stay' by summing 'stays_in_weekend_nights' and 'stays_in_week_nights'.\n",
        "- **Total Guests**: Added a 'total_guests' column by combining 'adults,' 'children,' and 'babies' columns.\n",
        "\n",
        "**Key Findings:**\n",
        "- **Meal Preferences**: Approximately 77% of customers chose the BB (Bed & Breakfast) meal type.\n",
        "- **Hotel Type Preferences**: About 61% of customers booked the city hotel, which also had the highest average ADR.\n",
        "- **Booking Trends**:\n",
        "  - **Peak Year**: 2016 was the year with the highest number of bookings.\n",
        "  - **Peak Month**: August emerged as the peak month for bookings.\n",
        "- **Customer Origin**: The majority of customers were from Portugal, followed by Great Britain, France, and Spain.\n",
        "- **Customer Type**: Approximately 72% of customers were of the Transient type.\n",
        "- **First-Time Bookings**: Around 97% of customers were making their first booking at the hotel.\n",
        "- **Room Assignments**: A-type rooms were assigned to approximately 52% of the customers.\n",
        "- **Cancellation Rates**: The city hotel had the highest cancellation rate, at around 30%.\n"
      ],
      "metadata": {
        "id": "xOqzlY_2_aep"
      }
    },
    {
      "cell_type": "markdown",
      "source": [
        "## ***4. Data Vizualization, Storytelling & Experimenting with charts : Understand the relationships between variables***"
      ],
      "metadata": {
        "id": "GF8Ens_Soomf"
      }
    },
    {
      "cell_type": "markdown",
      "source": [
        "#### Chart - 1"
      ],
      "metadata": {
        "id": "0wOQAZs5pc--"
      }
    },
    {
      "cell_type": "markdown",
      "source": [
        "**Which Type of Hotel is Booked by the Customer?**"
      ],
      "metadata": {
        "id": "qz2EVYf4IUub"
      }
    },
    {
      "cell_type": "code",
      "source": [
        "# Chart - 1 visualization code\n",
        "# Use Histogram to plot the chart for 'Hotel Booking'\n",
        "\n",
        "# Suppose df is our dataframe and 'hotel' is a column in it\n",
        "\n",
        "# Seaborn\n",
        "sns.set_style('whitegrid')\n",
        "\n",
        "# Set the size\n",
        "plt.figure(figsize=(8, 6))\n",
        "\n",
        "# Create a countplot for the column 'hotel'\n",
        "sns.countplot(x='hotel', data=df, color = 'blue', palette = ['tab:orange', 'tab:blue'])\n",
        "\n",
        "# Set the title and labels\n",
        "plt.title('Hotel Booking')\n",
        "plt.xlabel('Hotel')\n",
        "plt.ylabel('Count')\n",
        "\n",
        "# Show the plot\n",
        "plt.show()\n"
      ],
      "metadata": {
        "id": "7v_ESjsspbW7"
      },
      "execution_count": null,
      "outputs": []
    },
    {
      "cell_type": "code",
      "source": [
        "plt.pie(x=df.hotel.value_counts(),explode=[0.01,0],labels=['City Hotel', 'Resort Hotel'], autopct=\"%0.1f%%\", textprops={'fontsize': 14})\n",
        "plt.legend(bbox_to_anchor=(1, 1))\n",
        "plt.title('Percentage of Hotel Bookings', fontsize=20)\n",
        "plt.show()"
      ],
      "metadata": {
        "id": "Hu_xuv2QKD-P"
      },
      "execution_count": null,
      "outputs": []
    },
    {
      "cell_type": "markdown",
      "source": [
        "##### 1. Why did you pick the specific chart?"
      ],
      "metadata": {
        "id": "K5QZ13OEpz2H"
      }
    },
    {
      "cell_type": "markdown",
      "source": [
        "I have chosen a Bar Chart  to show which type of hotel has the the maximum number of bookings and I choose a Pie Chart to show the difference between the percentage of bookings."
      ],
      "metadata": {
        "id": "XESiWehPqBRc"
      }
    },
    {
      "cell_type": "markdown",
      "source": [
        "##### 2. What is/are the insight(s) found from the chart?"
      ],
      "metadata": {
        "id": "lQ7QKXXCp7Bj"
      }
    },
    {
      "cell_type": "markdown",
      "source": [
        "From the above chart I found that the percentage of City Hotel booking is more than the percentage of Resort Hotel booking. Here the percentage of the City Hotel booking is almost 61% so we can say thtat mostly customer prefere to book City Hotel."
      ],
      "metadata": {
        "id": "C_j1G7yiqdRP"
      }
    },
    {
      "cell_type": "markdown",
      "source": [
        "##### 3. Will the gained insights help creating a positive business impact?\n",
        "Are there any insights that lead to negative growth? Justify with specific reason."
      ],
      "metadata": {
        "id": "448CDAPjqfQr"
      }
    },
    {
      "cell_type": "markdown",
      "source": [
        "From the above I think the Resort Hotel is costly compared to city resort or may be the services which resort hotel is giving are not that much good hence most of the customers are prefering the city hotel. I think Resort hotel need to do some improvements about their prices and need to give some cool offers to their customers."
      ],
      "metadata": {
        "id": "3cspy4FjqxJW"
      }
    },
    {
      "cell_type": "markdown",
      "source": [
        "#### Chart - 2"
      ],
      "metadata": {
        "id": "KSlN3yHqYklG"
      }
    },
    {
      "cell_type": "markdown",
      "source": [
        "**Which is the Most Preferred Meal Type?**"
      ],
      "metadata": {
        "id": "XuQ1MwLrYpJ2"
      }
    },
    {
      "cell_type": "code",
      "source": [
        "# Chart - 2 visualization code\n",
        "# Using Seaborn Countplot\n",
        "sns.set_style('whitegrid')\n",
        "plt.figure(figsize=(10, 6))\n",
        "sns.countplot(x=df['meal'], color = 'blue', palette = ['tab:blue', 'tab:orange', 'tab:red', 'tab:green'])\n",
        "plt.xlabel('Meal Type', fontsize=20)\n",
        "plt.ylabel('Count', fontsize=20)\n",
        "plt.title('Meal Type Distribution', fontsize=20)\n",
        "plt.show()"
      ],
      "metadata": {
        "id": "R4YgtaqtYklH"
      },
      "execution_count": null,
      "outputs": []
    },
    {
      "cell_type": "code",
      "source": [
        "# Using Pie Chart to Show the Percentage Distribution\n",
        "colors = ['tab:blue', 'tab:red', 'tab:green',  'tab:orange']\n",
        "\n",
        "# Create a pie chart\n",
        "plt.figure(figsize=(8, 8))\n",
        "plt.pie(x=df.meal.value_counts(),explode=[0,0,0,0], labels=['BB', 'HB','SC', 'FB'], autopct=\"%0.1f%%\", textprops={'fontsize': 14}, colors=colors)\n",
        "plt.legend(bbox_to_anchor=(1, 1))\n",
        "plt.title('Percentage Distribution of Meal Type', fontsize=20)\n",
        "plt.show()\n"
      ],
      "metadata": {
        "id": "D9VJ-Y5gTwBo"
      },
      "execution_count": null,
      "outputs": []
    },
    {
      "cell_type": "markdown",
      "source": [
        "##### 1. Why did you pick the specific chart?"
      ],
      "metadata": {
        "id": "t6dVpIINYklI"
      }
    },
    {
      "cell_type": "markdown",
      "source": [
        "I think the Bar chart is good to see which meal is mostly prefer by the customer and to show the percentage of meal Pie Chart is good hence is choose them."
      ],
      "metadata": {
        "id": "5aaW0BYyYklI"
      }
    },
    {
      "cell_type": "markdown",
      "source": [
        "##### 2. What is/are the insight(s) found from the chart?"
      ],
      "metadata": {
        "id": "ijmpgYnKYklI"
      }
    },
    {
      "cell_type": "markdown",
      "source": [
        "The insights which i get from the above chart is that most commonly prefer meal by the customer is Bed & Breakfast. Almost 78% customer used to prefer this."
      ],
      "metadata": {
        "id": "PSx9atu2YklI"
      }
    },
    {
      "cell_type": "markdown",
      "source": [
        "##### 3. Will the gained insights help creating a positive business impact?\n",
        "Are there any insights that lead to negative growth? Justify with specific reason."
      ],
      "metadata": {
        "id": "-JiQyfWJYklI"
      }
    },
    {
      "cell_type": "markdown",
      "source": [
        "The Bed & Breakfast is the most preferred meal option among customers, the hotel management need to first maintain the quality of BB meal, It should not need to be get down as well as need to give some any offer for customers so they can upgrade their meal from BB to HB or FB. This technique could contribute to increased revenue. Also for the customers who are not opting any type of meal plan, the hotel management might try to encourage them to choose BB meal by providing some type of discounts or any special offers."
      ],
      "metadata": {
        "id": "BcBbebzrYklV"
      }
    },
    {
      "cell_type": "markdown",
      "source": [
        "#### Chart - 3"
      ],
      "metadata": {
        "id": "EM7whBJCYoAo"
      }
    },
    {
      "cell_type": "markdown",
      "source": [
        "**Advanced Booking Cancellation?**"
      ],
      "metadata": {
        "id": "gZW4bR3nY1R9"
      }
    },
    {
      "cell_type": "code",
      "source": [
        "# Chart - 3 visualization code\n",
        "plt.figure(figsize=(10, 6))\n",
        "sns.barplot(x='arrival_date_year', y='lead_time', hue='is_canceled', data=df)\n",
        "plt.xlabel('Year', fontsize=20)\n",
        "plt.ylabel('Lead Time', fontsize=20)\n",
        "plt.title('Advanced Booking Cancellation', fontsize=20)\n",
        "plt.show()"
      ],
      "metadata": {
        "id": "t6GMdE67YoAp"
      },
      "execution_count": null,
      "outputs": []
    },
    {
      "cell_type": "markdown",
      "source": [
        "##### 1. Why did you pick the specific chart?"
      ],
      "metadata": {
        "id": "fge-S5ZAYoAp"
      }
    },
    {
      "cell_type": "markdown",
      "source": [
        "I picked this bar plot to compare the average lead time of hotel bookings across different years, highlighting the differences between canceled and non-canceled bookings. This chart clearly shows trends over time and allows for easy comparison of how booking behaviors and cancellation rates vary annually. Using the hue parameter to distinguish between cancellations helps in visualizing these patterns effectively, making the data insights straightforward and accessible."
      ],
      "metadata": {
        "id": "5dBItgRVYoAp"
      }
    },
    {
      "cell_type": "markdown",
      "source": [
        "##### 2. What is/are the insight(s) found from the chart?"
      ],
      "metadata": {
        "id": "85gYPyotYoAp"
      }
    },
    {
      "cell_type": "markdown",
      "source": [
        "From the chart, the key insights are that the lead time for hotel bookings has varied over the years, and there is a noticeable difference in lead times between canceled and non-canceled bookings. Generally, bookings with longer lead times tend to have higher cancellation rates. This indicates that guests who book further in advance are more likely to cancel their reservations."
      ],
      "metadata": {
        "id": "4jstXR6OYoAp"
      }
    },
    {
      "cell_type": "markdown",
      "source": [
        "##### 3. Will the gained insights help creating a positive business impact?\n",
        "Are there any insights that lead to negative growth? Justify with specific reason."
      ],
      "metadata": {
        "id": "RoGjAbkUYoAp"
      }
    },
    {
      "cell_type": "markdown",
      "source": [
        "The gained insights can help create a positive business impact by enabling the hotel to better manage booking policies and reduce cancellation rates. For example, the hotel can implement stricter cancellation policies or offer incentives for guests with longer lead times to confirm their bookings, thereby reducing the likelihood of cancellations."
      ],
      "metadata": {
        "id": "zfJ8IqMcYoAp"
      }
    },
    {
      "cell_type": "markdown",
      "source": [
        "#### Chart - 4"
      ],
      "metadata": {
        "id": "4Of9eVA-YrdM"
      }
    },
    {
      "cell_type": "markdown",
      "source": [
        "**Distribution of Bookings?**"
      ],
      "metadata": {
        "id": "cltz4e-3bNdI"
      }
    },
    {
      "cell_type": "code",
      "source": [
        "df.market_segment.value_counts()"
      ],
      "metadata": {
        "id": "DFnYLSd6bxLU"
      },
      "execution_count": null,
      "outputs": []
    },
    {
      "cell_type": "code",
      "source": [
        "# Chart - 4 visualization code\n",
        "# Using the Pie chart to find the percentage of booking distribution\n",
        "\n",
        "plt.figure(figsize=(10, 10))\n",
        "plt.pie(df.market_segment.value_counts(), labels=['Online TA', 'Offline TA/TO', 'Groups', 'Direct', 'Corporate', 'Complementary', 'Aviation', 'Undefined'], autopct=\"%0.1f%%\", textprops={'fontsize': 14})\n",
        "plt.legend(bbox_to_anchor=(1, 1))\n",
        "plt.title('Booking Distribution', fontsize=20)\n",
        "plt.show()"
      ],
      "metadata": {
        "id": "irlUoxc8YrdO"
      },
      "execution_count": null,
      "outputs": []
    },
    {
      "cell_type": "code",
      "source": [
        "# Chart - 8 visualization code\n",
        "\n",
        "\n",
        "#using pie chart to findout percentage\n",
        "plt.figure(figsize=(10 ,12))\n",
        "plt.pie(df.market_segment.value_counts(),labels=['Online TA','Offline TA/TO','Direct','Groups','Corporate','Complementary','Aviation','Undefined'],autopct=\"%0.1f%%\",shadow=True,textprops={'fontsize':13})\n",
        "plt.legend(bbox_to_anchor=(2,1))\n",
        "plt.title('Distribution through different channels')\n",
        "plt.show()"
      ],
      "metadata": {
        "id": "054rDgA8fhDn"
      },
      "execution_count": null,
      "outputs": []
    },
    {
      "cell_type": "markdown",
      "source": [
        "##### 1. Why did you pick the specific chart?"
      ],
      "metadata": {
        "id": "iky9q4vBYrdO"
      }
    },
    {
      "cell_type": "markdown",
      "source": [
        "Answer Here."
      ],
      "metadata": {
        "id": "aJRCwT6DYrdO"
      }
    },
    {
      "cell_type": "markdown",
      "source": [
        "##### 2. What is/are the insight(s) found from the chart?"
      ],
      "metadata": {
        "id": "F6T5p64dYrdO"
      }
    },
    {
      "cell_type": "markdown",
      "source": [
        "Answer Here"
      ],
      "metadata": {
        "id": "Xx8WAJvtYrdO"
      }
    },
    {
      "cell_type": "markdown",
      "source": [
        "##### 3. Will the gained insights help creating a positive business impact?\n",
        "Are there any insights that lead to negative growth? Justify with specific reason."
      ],
      "metadata": {
        "id": "y-Ehk30pYrdP"
      }
    },
    {
      "cell_type": "markdown",
      "source": [
        "Answer Here"
      ],
      "metadata": {
        "id": "jLNxxz7MYrdP"
      }
    },
    {
      "cell_type": "markdown",
      "source": [
        "#### Chart - 5"
      ],
      "metadata": {
        "id": "bamQiAODYuh1"
      }
    },
    {
      "cell_type": "markdown",
      "source": [
        "**Which Year has the highest no of Bookings?**"
      ],
      "metadata": {
        "id": "l5e7RLATm8-H"
      }
    },
    {
      "cell_type": "code",
      "source": [
        "# Chart - 5 visualization code\n",
        "# Find which year has high no of bookings\n",
        "# Using Bivariate Analysis\n",
        "\n",
        "plt.figure(figsize=(14,7))\n",
        "sns.set_style('whitegrid')\n",
        "plt.rc('font', size=14)\n",
        "sns.countplot(x='arrival_date_year', hue='hotel', data=df)\n",
        "plt.legend()\n",
        "plt.title('Highest Booking Year', fontsize=20)\n",
        "plt.xlabel('Year', fontsize=20)\n",
        "plt.ylabel('Count of Bookings', fontsize=20)\n",
        "plt.show()"
      ],
      "metadata": {
        "id": "TIJwrbroYuh3"
      },
      "execution_count": null,
      "outputs": []
    },
    {
      "cell_type": "markdown",
      "source": [
        "##### 1. Why did you pick the specific chart?"
      ],
      "metadata": {
        "id": "QHF8YVU7Yuh3"
      }
    },
    {
      "cell_type": "markdown",
      "source": [
        "I chose this count plot to easily identify which year had the highest number of bookings and to compare booking counts between different types of hotels"
      ],
      "metadata": {
        "id": "dcxuIMRPYuh3"
      }
    },
    {
      "cell_type": "markdown",
      "source": [
        "##### 2. What is/are the insight(s) found from the chart?"
      ],
      "metadata": {
        "id": "GwzvFGzlYuh3"
      }
    },
    {
      "cell_type": "markdown",
      "source": [
        "From the chart, the insights are clear:\n",
        "\n",
        "1. The year 2016 shows the highest number of bookings compared to other years.\n",
        "2. The chart also reveals how bookings are distributed between different types of hotels (likely differentiating between resorts and city hotels), providing insights into customer preferences across years."
      ],
      "metadata": {
        "id": "uyqkiB8YYuh3"
      }
    },
    {
      "cell_type": "markdown",
      "source": [
        "##### 3. Will the gained insights help creating a positive business impact?\n",
        "Are there any insights that lead to negative growth? Justify with specific reason."
      ],
      "metadata": {
        "id": "qYpmQ266Yuh3"
      }
    },
    {
      "cell_type": "markdown",
      "source": [
        "The insights from the chart, showing the highest bookings in 2016 and the distribution between hotel types, can help hotels optimize resources during peak periods for better customer service. However, relying too heavily on peak years may lead to missed opportunities in marketing and resource allocation during other times, potentially affecting revenue generation negatively."
      ],
      "metadata": {
        "id": "_WtzZ_hCYuh4"
      }
    },
    {
      "cell_type": "markdown",
      "source": [
        "#### Chart - 6"
      ],
      "metadata": {
        "id": "OH-pJp9IphqM"
      }
    },
    {
      "cell_type": "markdown",
      "source": [
        "**Which Month has the Highest no of Bookings?**"
      ],
      "metadata": {
        "id": "IIjshrU5mylA"
      }
    },
    {
      "cell_type": "code",
      "source": [
        "# Chart - 6 visualization code\n",
        "plt.figure(figsize=(10, 6))\n",
        "\n",
        "# Plotting arrivals per month with different colors for each month\n",
        "my_plot = sns.countplot(data=df, x='arrival_date_month', palette='husl')\n",
        "plt.title('Arrivals per month', fontweight='bold', size=20)\n",
        "plt.xlabel('Month')\n",
        "plt.ylabel('Count')\n",
        "\n",
        "# Rotate x-axis labels for better readability\n",
        "my_plot.set_xticklabels(my_plot.get_xticklabels(), rotation=45)\n",
        "\n",
        "plt.tight_layout()\n",
        "plt.show()\n"
      ],
      "metadata": {
        "id": "ypMGFqXVktfK"
      },
      "execution_count": null,
      "outputs": []
    },
    {
      "cell_type": "markdown",
      "source": [
        "##### 1. Why did you pick the specific chart?"
      ],
      "metadata": {
        "id": "bbFf2-_FphqN"
      }
    },
    {
      "cell_type": "markdown",
      "source": [
        "I chose this count plot to visualize the distribution of hotel arrivals across different months of the year. Using different colors for each month makes it easy to compare arrival counts visually. This chart effectively highlights seasonal variations in hotel occupancy, providing insights into peak and off-peak periods throughout the year."
      ],
      "metadata": {
        "id": "loh7H2nzphqN"
      }
    },
    {
      "cell_type": "markdown",
      "source": [
        "##### 2. What is/are the insight(s) found from the chart?"
      ],
      "metadata": {
        "id": "_ouA3fa0phqN"
      }
    },
    {
      "cell_type": "markdown",
      "source": [
        "From the chart, the insights include:\n",
        "\n",
        "1. August shows the highest number of arrivals, indicating it may be a peak tourist season.\n",
        "2. There is a noticeable variation in arrivals across months, suggesting seasonal trends in hotel occupancy.\n",
        "3. Understanding these patterns can help hotels anticipate demand fluctuations, adjust pricing strategies, and optimize staffing and resource allocation accordingly."
      ],
      "metadata": {
        "id": "VECbqPI7phqN"
      }
    },
    {
      "cell_type": "markdown",
      "source": [
        "##### 3. Will the gained insights help creating a positive business impact?\n",
        "Are there any insights that lead to negative growth? Justify with specific reason."
      ],
      "metadata": {
        "id": "Seke61FWphqN"
      }
    },
    {
      "cell_type": "markdown",
      "source": [
        "The insights from the chart, such as the peak arrivals in August and seasonal variations across months, can help hotels optimize operations and marketing strategies effectively. By adjusting pricing and promotions to match demand fluctuations, hotels can enhance customer satisfaction and operational efficiency during peak seasons. However, focusing exclusively on peak months may lead to challenges like overbooking during high-demand periods and underutilization of resources in slower months, potentially impacting overall profitability. It's important for hotels to balance strategies to ensure consistent business performance throughout the year."
      ],
      "metadata": {
        "id": "DW4_bGpfphqN"
      }
    },
    {
      "cell_type": "markdown",
      "source": [
        "#### Chart - 7"
      ],
      "metadata": {
        "id": "PIIx-8_IphqN"
      }
    },
    {
      "cell_type": "markdown",
      "source": [
        "**Number of Days Mostly People Staying in Hotel?**"
      ],
      "metadata": {
        "id": "vN5D42PLnWMp"
      }
    },
    {
      "cell_type": "code",
      "source": [
        "# Chart - 7 visualization code\n",
        "df_2 = df[df['is_canceled']==0]\n",
        "stay = df_2[df_2['total_stay'] < 10]\n",
        "plt.figure(figsize=(10, 6))\n",
        "sns.countplot(x=stay['total_stay'], hue=stay['hotel'])\n",
        "plt.title('Number of Days Mostly People Staying in Hotel')\n",
        "plt.xlabel('Number of Days')\n",
        "plt.ylabel('Count')\n",
        "plt.show()"
      ],
      "metadata": {
        "id": "lqAIGUfyphqO"
      },
      "execution_count": null,
      "outputs": []
    },
    {
      "cell_type": "markdown",
      "source": [
        "##### 1. Why did you pick the specific chart?"
      ],
      "metadata": {
        "id": "t27r6nlMphqO"
      }
    },
    {
      "cell_type": "markdown",
      "source": [
        "I chose this count plot to visualize how long people typically stay in hotels, focusing on stays of less than 10 days. By using the hue parameter to differentiate between types of hotels, this chart effectively shows the distribution of stay durations across different hotel categories. This helps identify common stay lengths and any differences in stay patterns between hotel types."
      ],
      "metadata": {
        "id": "iv6ro40sphqO"
      }
    },
    {
      "cell_type": "markdown",
      "source": [
        "##### 2. What is/are the insight(s) found from the chart?"
      ],
      "metadata": {
        "id": "r2jJGEOYphqO"
      }
    },
    {
      "cell_type": "markdown",
      "source": [
        "From the above chart I get to know that most people tend to stay in hotels for a short duration, typically between 1 to 3 days.The distribution of stay lengths is similar across different hotel types, indicating consistent short-stay patterns regardless of the hotel category."
      ],
      "metadata": {
        "id": "Po6ZPi4hphqO"
      }
    },
    {
      "cell_type": "markdown",
      "source": [
        "##### 3. Will the gained insights help creating a positive business impact?\n",
        "Are there any insights that lead to negative growth? Justify with specific reason."
      ],
      "metadata": {
        "id": "b0JNsNcRphqO"
      }
    },
    {
      "cell_type": "markdown",
      "source": [
        "The insights can help hotels improve services for short-stay guests, boosting satisfaction and bookings. However, focusing only on short stays may miss opportunities with long-term guests. Balancing strategies for both ensures steady revenue and broader market reach."
      ],
      "metadata": {
        "id": "xvSq8iUTphqO"
      }
    },
    {
      "cell_type": "markdown",
      "source": [
        "#### Chart - 8"
      ],
      "metadata": {
        "id": "BZR9WyysphqO"
      }
    },
    {
      "cell_type": "markdown",
      "source": [
        "**Find the Percentage of Repeat and Non-Repeat Customers?**"
      ],
      "metadata": {
        "id": "CL1k-yU0vN8D"
      }
    },
    {
      "cell_type": "code",
      "source": [
        "# Chart - 8 visualization code\n",
        "plt.figure(figsize=(10, 6))\n",
        "plt.pie(df.is_repeated_guest.value_counts(), labels=['Non-Repeat', 'Repeat'], autopct=\"%0.1f%%\", textprops={'fontsize': 14})\n",
        "plt.legend(bbox_to_anchor=(1, 1))\n",
        "plt.title('Percentage of Repeat and Non-Repeat Customers', fontsize=20)\n",
        "plt.show()"
      ],
      "metadata": {
        "id": "TdPTWpAVphqO"
      },
      "execution_count": null,
      "outputs": []
    },
    {
      "cell_type": "markdown",
      "source": [
        "##### 1. Why did you pick the specific chart?"
      ],
      "metadata": {
        "id": "jj7wYXLtphqO"
      }
    },
    {
      "cell_type": "markdown",
      "source": [
        "I chose this pie chart to visualize the proportion of repeat versus non-repeat customers. Pie charts are effective for showing percentage distributions, making it easy to see the relative size of each category."
      ],
      "metadata": {
        "id": "Ob8u6rCTphqO"
      }
    },
    {
      "cell_type": "markdown",
      "source": [
        "##### 2. What is/are the insight(s) found from the chart?"
      ],
      "metadata": {
        "id": "eZrbJ2SmphqO"
      }
    },
    {
      "cell_type": "markdown",
      "source": [
        "The chart reveals that a significant majority of the customers are non-repeat guests, while a smaller portion are repeat guests. This highlights the hotel's reliance on attracting new customers over retaining existing ones."
      ],
      "metadata": {
        "id": "mZtgC_hjphqO"
      }
    },
    {
      "cell_type": "markdown",
      "source": [
        "##### 3. Will the gained insights help creating a positive business impact?\n",
        "Are there any insights that lead to negative growth? Justify with specific reason."
      ],
      "metadata": {
        "id": "rFu4xreNphqO"
      }
    },
    {
      "cell_type": "markdown",
      "source": [
        "The insights show a majority of customers are non-repeat guests, indicating a need to boost customer retention. Implementing loyalty programs and improving customer satisfaction can increase repeat bookings and create a positive business impact. However, relying too much on new customers without retention strategies may lead to higher marketing costs and inconsistent revenue. Balancing efforts between acquiring new and retaining existing guests ensures sustainable growth."
      ],
      "metadata": {
        "id": "ey_0qi68phqO"
      }
    },
    {
      "cell_type": "markdown",
      "source": [
        "#### Chart - 9"
      ],
      "metadata": {
        "id": "YJ55k-q6phqO"
      }
    },
    {
      "cell_type": "markdown",
      "source": [
        "**Find the Type of Customers?**"
      ],
      "metadata": {
        "id": "tJAqgMs-wjrW"
      }
    },
    {
      "cell_type": "code",
      "source": [
        "# Chart - 9 visualization code\n",
        "# Whihc type of customer has max. booking\n",
        "plt.figure(figsize=(10, 6))\n",
        "plt.pie(df.customer_type.value_counts(), labels=['Transient', 'Transient-Party', 'Contract', 'Group'], autopct=\"%0.1f%%\", textprops={'fontsize': 14})\n",
        "plt.legend(bbox_to_anchor=(1, 1))\n",
        "plt.title('Type of Customers', fontsize=20)\n",
        "plt.show()"
      ],
      "metadata": {
        "id": "B2aS4O1ophqO"
      },
      "execution_count": null,
      "outputs": []
    },
    {
      "cell_type": "markdown",
      "source": [
        "##### 1. Why did you pick the specific chart?"
      ],
      "metadata": {
        "id": "gCFgpxoyphqP"
      }
    },
    {
      "cell_type": "markdown",
      "source": [
        "I chose this pie chart to visualize the distribution of different customer types, as it effectively shows the proportion of each category. This helps in quickly identifying which customer type has the maximum bookings."
      ],
      "metadata": {
        "id": "TVxDimi2phqP"
      }
    },
    {
      "cell_type": "markdown",
      "source": [
        "##### 2. What is/are the insight(s) found from the chart?"
      ],
      "metadata": {
        "id": "OVtJsKN_phqQ"
      }
    },
    {
      "cell_type": "markdown",
      "source": [
        "I chose this pie chart to visualize the distribution of different customer types, as it effectively shows the proportion of each category. This helps in quickly identifying which customer type has the maximum bookings."
      ],
      "metadata": {
        "id": "ngGi97qjphqQ"
      }
    },
    {
      "cell_type": "markdown",
      "source": [
        "##### 3. Will the gained insights help creating a positive business impact?\n",
        "Are there any insights that lead to negative growth? Justify with specific reason."
      ],
      "metadata": {
        "id": "lssrdh5qphqQ"
      }
    },
    {
      "cell_type": "markdown",
      "source": [
        "The insights show that 'Transient' customers have the highest bookings, highlighting the need to tailor marketing and services to individual travelers. This can positively impact business by enhancing customer satisfaction and retention. However, focusing too much on 'Transient' customers may neglect other types, leading to missed revenue opportunities. Balancing efforts to attract all customer types ensures steady and diverse bookings."
      ],
      "metadata": {
        "id": "tBpY5ekJphqQ"
      }
    },
    {
      "cell_type": "markdown",
      "source": [
        "#### Chart - 10"
      ],
      "metadata": {
        "id": "U2RJ9gkRphqQ"
      }
    },
    {
      "cell_type": "markdown",
      "source": [
        "**Mostly Preferred Booking Channel/Distribution Channel**"
      ],
      "metadata": {
        "id": "VC2A8udHx96h"
      }
    },
    {
      "cell_type": "code",
      "source": [
        "# Chart - 10 visualization code\n",
        "# Find which is the most prefered distribution_channel\n",
        "plt.figure(figsize=(15,6))\n",
        "sns.set_style('whitegrid')\n",
        "plt.rc('font', size=14)\n",
        "sns.countplot(x='distribution_channel', data=df, color = 'blue', palette = ['tab:orange', 'tab:blue', 'tab:red', 'tab:green', 'tab:purple'])\n",
        "plt.title('Distribution Channel', fontsize=20)\n",
        "plt.xlabel('Types of Distribution Channels', fontsize=20)\n",
        "plt.ylabel('Count of Bookings', fontsize=20)\n",
        "plt.show()"
      ],
      "metadata": {
        "id": "GM7a4YP4phqQ"
      },
      "execution_count": null,
      "outputs": []
    },
    {
      "cell_type": "code",
      "source": [
        "# Using Pie Chart to Find the Percentage Distribution of distribution channels\n",
        "plt.figure(figsize=(8, 8))\n",
        "plt.pie(df.distribution_channel.value_counts(), labels=['TA/TO', 'Direct', 'Corporate', 'Undefined', 'GDS'], autopct=\"%0.1f%%\", textprops={'fontsize': 10})\n",
        "plt.legend(bbox_to_anchor=(1, 1))\n",
        "plt.title('Distribution through different channels', fontsize=20)\n",
        "plt.show()"
      ],
      "metadata": {
        "id": "08rXP2uMziHO"
      },
      "execution_count": null,
      "outputs": []
    },
    {
      "cell_type": "markdown",
      "source": [
        "##### 1. Why did you pick the specific chart?"
      ],
      "metadata": {
        "id": "1M8mcRywphqQ"
      }
    },
    {
      "cell_type": "markdown",
      "source": [
        "I chose the count plot to visualize the distribution of bookings across different distribution channels, providing clear insight into customer preferences and booking patterns. and I selected the pie chart to visually represent the percentage distribution of bookings across different distribution channels, offering a clear comparison of their relative importance."
      ],
      "metadata": {
        "id": "8agQvks0phqQ"
      }
    },
    {
      "cell_type": "markdown",
      "source": [
        "##### 2. What is/are the insight(s) found from the chart?"
      ],
      "metadata": {
        "id": "tgIPom80phqQ"
      }
    },
    {
      "cell_type": "markdown",
      "source": [
        "The count plot and the pie chart shows that 'TA/TO' is the most preferred distribution channel, followed by 'Direct', 'Corporate', 'Undefined', and 'GDS'. This indicates where most bookings originate and directs focus for optimizing distribution strategies."
      ],
      "metadata": {
        "id": "Qp13pnNzphqQ"
      }
    },
    {
      "cell_type": "markdown",
      "source": [
        "##### 3. Will the gained insights help creating a positive business impact?\n",
        "Are there any insights that lead to negative growth? Justify with specific reason."
      ],
      "metadata": {
        "id": "JMzcOPDDphqR"
      }
    },
    {
      "cell_type": "markdown",
      "source": [
        "Understanding 'TA/TO' and 'Direct' dominance can enhance booking efficiency and revenue. However, relying too much on 'TA/TO' might limit diversification. Balancing across channels ensures steady growth."
      ],
      "metadata": {
        "id": "R4Ka1PC2phqR"
      }
    },
    {
      "cell_type": "markdown",
      "source": [
        "#### Chart - 11"
      ],
      "metadata": {
        "id": "x-EpHcCOp1ci"
      }
    },
    {
      "cell_type": "markdown",
      "source": [
        "**Find the Average day Rate of Hotel?**"
      ],
      "metadata": {
        "id": "fPN5tWAz1dMK"
      }
    },
    {
      "cell_type": "code",
      "source": [
        "# Chart - 11 visualization code\n",
        "plt.figure(figsize=(10, 6))\n",
        "my_plot=sns.lineplot(x='arrival_date_month', y='adr', hue='hotel', data=df)\n",
        "my_plot.set_xticklabels(my_plot.get_xticklabels(), rotation=45)\n",
        "plt.title('Average Day Rate of Hotel', fontsize=20)\n",
        "plt.xlabel('Month', fontsize=20)\n",
        "plt.ylabel('Average Day Rate', fontsize=20)\n",
        "plt.show()"
      ],
      "metadata": {
        "id": "mAQTIvtqp1cj"
      },
      "execution_count": null,
      "outputs": []
    },
    {
      "cell_type": "markdown",
      "source": [
        "##### 1. Why did you pick the specific chart?"
      ],
      "metadata": {
        "id": "X_VqEhTip1ck"
      }
    },
    {
      "cell_type": "markdown",
      "source": [
        "I chose the line plot to visualize the average day rate (ADR) of hotels across different months, as it effectively shows trends and comparisons over time."
      ],
      "metadata": {
        "id": "-vsMzt_np1ck"
      }
    },
    {
      "cell_type": "markdown",
      "source": [
        "##### 2. What is/are the insight(s) found from the chart?"
      ],
      "metadata": {
        "id": "8zGJKyg5p1ck"
      }
    },
    {
      "cell_type": "markdown",
      "source": [
        "The line plot reveals how ADR varies throughout the year for different hotel types ('Resort Hotel' and 'City Hotel'). It shows any seasonal patterns or differences in pricing strategies between the two types of hotels."
      ],
      "metadata": {
        "id": "ZYdMsrqVp1ck"
      }
    },
    {
      "cell_type": "markdown",
      "source": [
        "##### 3. Will the gained insights help creating a positive business impact?\n",
        "Are there any insights that lead to negative growth? Justify with specific reason."
      ],
      "metadata": {
        "id": "PVzmfK_Ep1ck"
      }
    },
    {
      "cell_type": "markdown",
      "source": [
        "Understanding the seasonal variations in ADR can help hotels adjust pricing strategies to maximize revenue during peak seasons. This insight into pricing trends also aids in competitive positioning and profitability. However, relying too heavily on seasonal pricing adjustments might lead to customer dissatisfaction or loss of bookings during off-peak periods. Balancing pricing strategies throughout the year ensures consistent revenue generation and customer satisfactio"
      ],
      "metadata": {
        "id": "druuKYZpp1ck"
      }
    },
    {
      "cell_type": "markdown",
      "source": [
        "#### Chart - 12"
      ],
      "metadata": {
        "id": "n3dbpmDWp1ck"
      }
    },
    {
      "cell_type": "markdown",
      "source": [
        "**Which Type of Room Assigned to the Customers?**"
      ],
      "metadata": {
        "id": "lIgAlRP23Imf"
      }
    },
    {
      "cell_type": "code",
      "source": [
        "# Chart - 12 visualization code\n",
        "# Find which type of room is mostly assigned to the customers\n",
        "plt.figure(figsize=(10, 6))\n",
        "sns.set_style('whitegrid')\n",
        "plt.rc('font', size=14)\n",
        "sns.countplot(x='assigned_room_type', data=df, hue='hotel')\n",
        "plt.title('Which Type of Room Assigned to the Customers', fontsize=20)\n",
        "plt.xlabel('Types of Room', fontsize=20)\n",
        "plt.ylabel('Count of Bookings', fontsize=20)\n",
        "plt.show()"
      ],
      "metadata": {
        "id": "bwevp1tKp1ck"
      },
      "execution_count": null,
      "outputs": []
    },
    {
      "cell_type": "markdown",
      "source": [
        "##### 1. Why did you pick the specific chart?"
      ],
      "metadata": {
        "id": "ylSl6qgtp1ck"
      }
    },
    {
      "cell_type": "markdown",
      "source": [
        "I chose the count plot to visualize which types of rooms are most frequently assigned to customers across different hotels, providing insight into room allocation patterns."
      ],
      "metadata": {
        "id": "m2xqNkiQp1ck"
      }
    },
    {
      "cell_type": "markdown",
      "source": [
        "##### 2. What is/are the insight(s) found from the chart?"
      ],
      "metadata": {
        "id": "ZWILFDl5p1ck"
      }
    },
    {
      "cell_type": "markdown",
      "source": [
        "From the count plot, it's clear that certain room types are more commonly assigned than others across both 'Resort Hotel' and 'City Hotel'. This helps understand room preference and allocation strategies."
      ],
      "metadata": {
        "id": "x-lUsV2mp1ck"
      }
    },
    {
      "cell_type": "markdown",
      "source": [
        "##### 3. Will the gained insights help creating a positive business impact?\n",
        "Are there any insights that lead to negative growth? Justify with specific reason."
      ],
      "metadata": {
        "id": "M7G43BXep1ck"
      }
    },
    {
      "cell_type": "markdown",
      "source": [
        "Understanding room preferences can improve guest satisfaction and booking rates. However, focusing too much on popular room types might overlook other rooms, affecting revenue. Balancing room assignments ensures efficient use of resources and maximizes overall satisfaction."
      ],
      "metadata": {
        "id": "5wwDJXsLp1cl"
      }
    },
    {
      "cell_type": "markdown",
      "source": [
        "#### Chart - 13"
      ],
      "metadata": {
        "id": "Ag9LCva-p1cl"
      }
    },
    {
      "cell_type": "markdown",
      "source": [
        "**Hotel Booking Distribution by the Nationality of Customers?**"
      ],
      "metadata": {
        "id": "6BUaw7FJ4QAB"
      }
    },
    {
      "cell_type": "code",
      "source": [
        "# Example visualization code for booking distribution by customer nationality\n",
        "plt.figure(figsize=(12, 6))\n",
        "sns.countplot(x='country', hue='hotel', data=df[df['country'].isin(df['country'].value_counts().head(10).index)], palette='husl')\n",
        "plt.title('Booking Distribution by Customer Nationality', fontsize=20)\n",
        "plt.xlabel('Customer Nationality', fontsize=14)\n",
        "plt.ylabel('Count of Bookings', fontsize=14)\n",
        "plt.xticks(rotation=45)\n",
        "plt.legend(title='Hotel Type', loc='upper right')\n",
        "plt.show()\n"
      ],
      "metadata": {
        "id": "xCz-MSBL8BMd"
      },
      "execution_count": null,
      "outputs": []
    },
    {
      "cell_type": "markdown",
      "source": [
        "##### 1. Why did you pick the specific chart?"
      ],
      "metadata": {
        "id": "E6MkPsBcp1cl"
      }
    },
    {
      "cell_type": "markdown",
      "source": [
        "I chose to visualize the booking distribution by customer nationality and hotel type to understand the geographic origins of customers and their preferences across different hotel categories."
      ],
      "metadata": {
        "id": "V22bRsFWp1cl"
      }
    },
    {
      "cell_type": "markdown",
      "source": [
        "##### 2. What is/are the insight(s) found from the chart?"
      ],
      "metadata": {
        "id": "2cELzS2fp1cl"
      }
    },
    {
      "cell_type": "markdown",
      "source": [
        "The chart reveals the top nationalities of customers booking each type of hotel. It shows where customers are predominantly coming from and which types of hotels they prefer based on their nationality."
      ],
      "metadata": {
        "id": "ozQPc2_Ip1cl"
      }
    },
    {
      "cell_type": "markdown",
      "source": [
        "##### 3. Will the gained insights help creating a positive business impact?\n",
        "Are there any insights that lead to negative growth? Justify with specific reason."
      ],
      "metadata": {
        "id": "3MPXvC8up1cl"
      }
    },
    {
      "cell_type": "markdown",
      "source": [
        "Answer Here"
      ],
      "metadata": {
        "id": "GL8l1tdLp1cl"
      }
    },
    {
      "cell_type": "markdown",
      "source": [
        "#### Chart - 14 - Correlation Heatmap"
      ],
      "metadata": {
        "id": "NC_X3p0fY2L0"
      }
    },
    {
      "cell_type": "code",
      "source": [
        "df.columns"
      ],
      "metadata": {
        "id": "RcQtFB4VFZ8h"
      },
      "execution_count": null,
      "outputs": []
    },
    {
      "cell_type": "code",
      "source": [
        "# Correlation Heatmap visualization code\n",
        "dcor = df[['lead_time', 'previous_cancellations', 'previous_bookings_not_canceled', 'booking_changes', 'adr', 'required_car_parking_spaces', 'total_of_special_requests', 'total_stay', 'total_visitors']]\n",
        "df_cor = dcor.corr()\n",
        "f, ax = plt.subplots(figsize=(15, 8))\n",
        "sns.heatmap(df_cor, annot=True, cmap='coolwarm')\n",
        "plt.title('Correlation Heatmap', fontsize=20)\n",
        "plt.show()"
      ],
      "metadata": {
        "id": "xyC9zolEZNRQ"
      },
      "execution_count": null,
      "outputs": []
    },
    {
      "cell_type": "markdown",
      "source": [
        "##### 1. Why did you pick the specific chart?"
      ],
      "metadata": {
        "id": "UV0SzAkaZNRQ"
      }
    },
    {
      "cell_type": "markdown",
      "source": [
        "I chose the correlation heatmap to visualize the relationships between various numerical variables in the dataset. This helps in understanding how different factors are related to each other."
      ],
      "metadata": {
        "id": "DVPuT8LYZNRQ"
      }
    },
    {
      "cell_type": "markdown",
      "source": [
        "##### 2. What is/are the insight(s) found from the chart?"
      ],
      "metadata": {
        "id": "YPEH6qLeZNRQ"
      }
    },
    {
      "cell_type": "markdown",
      "source": [
        "The heatmap displays the correlation coefficients between variables such as lead time, previous cancellations, booking changes, average daily rate (ADR), and others. It shows which pairs of variables have strong positive or negative correlations, providing insights into potential relationships and dependencies."
      ],
      "metadata": {
        "id": "bfSqtnDqZNRR"
      }
    },
    {
      "cell_type": "markdown",
      "source": [
        "#### Chart - 15 - Pair Plot"
      ],
      "metadata": {
        "id": "q29F0dvdveiT"
      }
    },
    {
      "cell_type": "code",
      "source": [
        "# Pair Plot visualization code\n",
        "sns.pairplot(data = df[df['adr']<500][['hotel', 'total_stay', 'adr', 'total_visitors']], hue='hotel')"
      ],
      "metadata": {
        "id": "ScY0qwutIJQk"
      },
      "execution_count": null,
      "outputs": []
    },
    {
      "cell_type": "code",
      "source": [
        "# Scatter Plot between adr and total_visitors\n",
        "plt.figure(figsize=(20, 10))\n",
        "sns.scatterplot(x='adr', y='total_stay', data=df)\n",
        "plt.title('ADR vs Total Visitors', fontsize=20)\n",
        "plt.xlim(0, 300)\n",
        "plt.xlabel('ADR', fontsize=14)\n",
        "plt.ylabel('Total Visitors', fontsize=14)\n",
        "plt.show()"
      ],
      "metadata": {
        "id": "jRcdXdsNJaBh"
      },
      "execution_count": null,
      "outputs": []
    },
    {
      "cell_type": "markdown",
      "source": [
        "##### 1. Why did you pick the specific chart?"
      ],
      "metadata": {
        "id": "EXh0U9oCveiU"
      }
    },
    {
      "cell_type": "markdown",
      "source": [
        "I select a countplot to see the peak monnth of bookings"
      ],
      "metadata": {
        "id": "eMmPjTByveiU"
      }
    },
    {
      "cell_type": "markdown",
      "source": [
        "##### 2. What is/are the insight(s) found from the chart?"
      ],
      "metadata": {
        "id": "22aHeOlLveiV"
      }
    },
    {
      "cell_type": "markdown",
      "source": [
        "I found that the July and August are the peak month of bookings"
      ],
      "metadata": {
        "id": "uPQ8RGwHveiV"
      }
    },
    {
      "cell_type": "markdown",
      "source": [
        "## **5. Solution to Business Objective**"
      ],
      "metadata": {
        "id": "JcMwzZxoAimU"
      }
    },
    {
      "cell_type": "markdown",
      "source": [
        "#### What do you suggest the client to achieve Business Objective ?\n",
        "Explain Briefly."
      ],
      "metadata": {
        "id": "8G2x9gOozGDZ"
      }
    },
    {
      "cell_type": "markdown",
      "source": [
        "### **My Recommendations for Achieving Business Objectives:**\n",
        "\n",
        "**1. Analyze Cancellation Rates**\n",
        "\n",
        "- Investigate the high rate of cancellations, which may be linked to lenient deposit policies, and consider implementing stricter policies or mandatory deposits.\n",
        "\n",
        "**2. Peak Month Targeting**\n",
        "- Focus marketing efforts on the peak months of May to August, capitalizing on the summer travel season to maximize occupancy.\n",
        "\n",
        "**3. Offseason Discounts**\n",
        "- Offer special discounts during the offseason to attract more customers and maintain a steady flow of guests.\n",
        "\n",
        "**4. Loyalty Program**\n",
        "- Complement a membership plan with special discounts and benefits to retain customers and encourage repeat bookings.\n",
        "\n",
        "**5. Social Media Advertising**\n",
        "- Utilize social media platforms for advertising, especially during peak seasons, to reach a broader audience.\n",
        "\n",
        "**6. Customer Feedback Analysis**\n",
        "- Dedicate efforts to regularly analyze customer feedback to enhance facilities and services based on guest preferences and complaints.\n",
        "\n",
        "**7. Direct Booking Promotion**\n",
        "- Promote bookings through the company website or app by offering exclusive discounts and better control over the booking process.\n",
        "\n",
        "**8. Market Segment Monitoring**\n",
        "- Monitor where cancellations are coming from, such as specific market segments and distribution channels, to address underlying issues.\n",
        "\n",
        "**9. Special Packages**\n",
        "- Offer special packages that include meals and additional facilities to attract more travelers.\n",
        "\n",
        "**10. Geographical Targeting**\n",
        "- Since the majority of guests are from Western Europe, allocate a significant portion of the marketing budget to target this region.\n",
        "\n",
        "**11. Group and Long Stay Promotions**\n",
        "- Introduce attractive offers for group bookings and longer stays to boost occupancy and revenue.\n",
        "\n",
        "**12. Travel Agency Collaborations**\n",
        "- Collaborate with both online and offline travel agencies and other booking partners to expand customer reach.\n",
        "\n",
        "**13. Focus on City Hotels**\n",
        "- Spend the most on targeting city hotels, as they are the most frequently booked by customers.\n",
        "\n",
        "**14. Repeat Guest Campaign**\n",
        "- Given the low percentage of repeat guests, target advertisements to encourage previous guests to return.\n",
        "\n",
        "**15. Non-Refundable Rates**\n",
        "- Set non-refundable rates, collect deposits, and implement more rigid cancellation policies to secure bookings.\n",
        "\n",
        "**16. Customer Origin**\n",
        "- Tailor marketing strategies to attract more customers from countries with the highest number of bookings, such as Portugal, Great Britain, France, and Spain.\n",
        "\n",
        "**17. Exclusive Member Deals**\n",
        "- Create exclusive deals for members, such as room upgrades or complimentary services, to enhance the value of the membership program.\n",
        "\n",
        "**18. Enhanced Customer Service Training**\n",
        "- Invest in customer service training for staff to improve guest satisfaction and encourage positive reviews and repeat visits.\n",
        "\n",
        "**19. User-Friendly Booking System**\n",
        "- Ensure the booking system on the hotel’s website or app is user-friendly and mobile-optimized to facilitate easy bookings.\n",
        "\n",
        "**20. Customer Referral Program**\n",
        "- Introduce a referral program where existing customers can refer friends or family and receive discounts or rewards."
      ],
      "metadata": {
        "id": "pASKb0qOza21"
      }
    },
    {
      "cell_type": "markdown",
      "source": [
        "# **Conclusion**"
      ],
      "metadata": {
        "id": "gCX9965dhzqZ"
      }
    },
    {
      "cell_type": "markdown",
      "source": [
        "**In conclusion, the comprehensive analysis of the hotel booking dataset has provided valuable insights into customer behavior, booking patterns, and key factors influencing reservations. By leveraging this information, the hotel can implement targeted strategies to enhance customer satisfaction, reduce cancellations, and optimize occupancy rates.**\n",
        "\n",
        "**Key findings indicate that special packages, flexible booking options, and loyalty programs can significantly attract and retain customers. Addressing high cancellation rates through stricter policies and focusing marketing efforts on peak seasons and high-demand regions will further drive revenue growth. Additionally, collaboration with travel agencies, social media advertising, and promoting direct bookings will expand the hotel's reach and improve booking control.**\n",
        "\n",
        "**By continuously analyzing customer feedback and utilizing data-driven approaches, the hotel can stay ahead of market trends and offer tailored services that meet the evolving needs of their guests. Implementing these recommendations will not only enhance the guest experience but also position the hotel for sustained success in a competitive market.**"
      ],
      "metadata": {
        "id": "Fjb1IsQkh3yE"
      }
    },
    {
      "cell_type": "markdown",
      "source": [
        "### ***Hurrah! You have successfully completed your EDA Capstone Project !!!***"
      ],
      "metadata": {
        "id": "gIfDvo9L0UH2"
      }
    }
  ]
}